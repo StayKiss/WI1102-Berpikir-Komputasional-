{
  "nbformat": 4,
  "nbformat_minor": 0,
  "metadata": {
    "colab": {
      "provenance": [],
      "authorship_tag": "ABX9TyNBcCHMpnFGTg5woniExhsa",
      "include_colab_link": true
    },
    "kernelspec": {
      "name": "python3",
      "display_name": "Python 3"
    },
    "language_info": {
      "name": "python"
    }
  },
  "cells": [
    {
      "cell_type": "markdown",
      "metadata": {
        "id": "view-in-github",
        "colab_type": "text"
      },
      "source": [
        "<a href=\"https://colab.research.google.com/github/StayKiss/WI1102-Berpikir-Komputasional-/blob/main/Percobaan1.ipynb\" target=\"_parent\"><img src=\"https://colab.research.google.com/assets/colab-badge.svg\" alt=\"Open In Colab\"/></a>"
      ]
    },
    {
      "cell_type": "markdown",
      "source": [
        "# **Program** Text"
      ],
      "metadata": {
        "id": "8FqxrQxrwjBp"
      }
    },
    {
      "cell_type": "code",
      "execution_count": 2,
      "metadata": {
        "id": "-RfQkllZrdF1",
        "outputId": "6f5d2553-2d24-4827-82bb-c86b6dc4286d",
        "colab": {
          "base_uri": "https://localhost:8080/"
        }
      },
      "outputs": [
        {
          "output_type": "stream",
          "name": "stdout",
          "text": [
            "Stray Kids Everywhere All Around The World\n"
          ]
        }
      ],
      "source": [
        "print(\"Stray Kids Everywhere All Around The World\")"
      ]
    }
  ]
}